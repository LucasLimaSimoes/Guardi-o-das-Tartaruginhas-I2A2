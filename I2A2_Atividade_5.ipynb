{
  "nbformat": 4,
  "nbformat_minor": 0,
  "metadata": {
    "colab": {
      "provenance": [],
      "authorship_tag": "ABX9TyM7ofRR4UdUA8j8gygR6ce5",
      "include_colab_link": true
    },
    "kernelspec": {
      "name": "python3",
      "display_name": "Python 3"
    },
    "language_info": {
      "name": "python"
    }
  },
  "cells": [
    {
      "cell_type": "markdown",
      "metadata": {
        "id": "view-in-github",
        "colab_type": "text"
      },
      "source": [
        "<a href=\"https://colab.research.google.com/github/LucasLimaSimoes/Guardi-o-das-Tartaruginhas-I2A2/blob/main/I2A2_Atividade_5.ipynb\" target=\"_parent\"><img src=\"https://colab.research.google.com/assets/colab-badge.svg\" alt=\"Open In Colab\"/></a>"
      ]
    },
    {
      "cell_type": "markdown",
      "source": [
        "Este é o notebook criado para a atividade 5 do curso \"IA para projetos sustentáveis\" da I2A2. O objetivo era criar um sistema para ajudar o projeto \"Guardião das Tartaruginhas\" usando apenas os conhecimentos de Python passados no curso até então.\n",
        "\n",
        "O código está funcional, bastando apenas executar todas as células para utiliza-lo."
      ],
      "metadata": {
        "id": "fheR5e91HKQo"
      }
    },
    {
      "cell_type": "code",
      "execution_count": null,
      "metadata": {
        "id": "RK0LjahhXNQW"
      },
      "outputs": [],
      "source": [
        "# Função que valida as entradas do usuário\n",
        "def valida_entrada(regiao, qte_ovos, status, risco, dias_eclosao, predadores):\n",
        "  status_validos = [\"intacto\", \"danificado\", \"ameaçado\"] #entradas válidas para status\n",
        "  riscos_validos = [\"🟢\", \"🟡\", \"🔴\"] #entradas válidas para riscos\n",
        "\n",
        "  valida_regiao = type(regiao) == str #qualquer nome de região é valido\n",
        "\n",
        "  valida_qte_ovos = qte_ovos.isnumeric() #a quantidade de ovos deve ser não negativo e um número inteiro\n",
        "\n",
        "  valida_status = status.lower() in status_validos #o status deve ser um dos três tipos aceitos\n",
        "\n",
        "  valida_risco = risco in riscos_validos  #o risco deve ser um dos três tipos aceitos\n",
        "\n",
        "  valida_dias_eclosao = dias_eclosao.isnumeric() #a quantidade de dias para eclosão deve ser não negativo e um número inteiro\n",
        "\n",
        "  if predadores == \"True\" or predadores == \"False\": #verifica se a entrada de predadores é válida\n",
        "    valida_predadores = True\n",
        "  else:\n",
        "    valida_predadores = False\n",
        "\n",
        "  return valida_regiao and valida_qte_ovos and valida_status and valida_risco and valida_dias_eclosao and valida_predadores #retorna True se todas as entradas forem validadas, False caso contrário"
      ]
    },
    {
      "cell_type": "code",
      "source": [
        "# Função para inserir um novo ninho\n",
        "def inserir_ninho(regiao, qte_ovos, status, risco, dias_eclosao, predadores):\n",
        "\n",
        "  validado = valida_entrada(regiao, qte_ovos, status, risco, dias_eclosao, predadores) #verifica se os valores foram digitados corretamente\n",
        "\n",
        "  if validado: #caso as entradas estejam validadas\n",
        "    novo_ninho = { #dicionario com os dados do novo ninho\n",
        "        \"regiao\": regiao,\n",
        "        \"quantidade_ovos\": int(qte_ovos),\n",
        "        \"status\": status.lower(),\n",
        "        \"risco\": risco,\n",
        "        \"dias_para_eclosao\": int(dias_eclosao),\n",
        "        \"predadores\": bool(predadores)\n",
        "    }\n",
        "    ninhos.append(novo_ninho) #adiciona o novo ninho a lista\n",
        "    print(\"✅Ninho inserido com sucesso!\")\n",
        "  else:\n",
        "    print(\"❗Há algum problema na entrada, verifique se tudo foi digitado corretamente\")"
      ],
      "metadata": {
        "id": "9C_CjBf9Xa5s"
      },
      "execution_count": null,
      "outputs": []
    },
    {
      "cell_type": "code",
      "source": [
        "# Função para exibir relatório semanal\n",
        "def exibir_relatorio_semanal():\n",
        "  print(\"\\n---RELATÓRIO SEMANAL DOS NINHOS---\\n\")\n",
        "\n",
        "  if not ninhos: #caso não haja nenhum ninho cadastrado\n",
        "    print(\"Nenhum ninho cadastrado.\")\n",
        "    return\n",
        "\n",
        "  for i, ninho in enumerate(ninhos, start=1): #percorre cada ninho cadastrado\n",
        "    print(f\"Ninho {i}:\")\n",
        "    print(f\"  Região: {ninho['regiao']}\")\n",
        "    print(f\"  Quantidade de ovos: {ninho['quantidade_ovos']}\")\n",
        "    print(f\"  Status: {ninho['status']}\")\n",
        "    print(f\"  Risco: {ninho['risco']}\")\n",
        "    print(f\"  Dias para eclosão: {ninho['dias_para_eclosao']}\")\n",
        "    print(f\"  Predadores presentes: {'Sim' if ninho['predadores'] else 'Não'}\")\n",
        "    print(\"-\" * 50)"
      ],
      "metadata": {
        "id": "wh0G-43SXci3"
      },
      "execution_count": null,
      "outputs": []
    },
    {
      "cell_type": "code",
      "source": [
        "# Função para exibir número total de ninhos\n",
        "def exibir_qte_total_ninhos():\n",
        "  total = len(ninhos) #número de dicionarios na lista ninhos\n",
        "  print(f\"\\n📦Total de ninhos registrados: {total}\")"
      ],
      "metadata": {
        "id": "v5ql4l30Xezz"
      },
      "execution_count": null,
      "outputs": []
    },
    {
      "cell_type": "code",
      "source": [
        "# Função para exibir média de ovos por ninho com risco 🟢\n",
        "def media_ovos_risco_estavel():\n",
        "  ovos_totais = 0 #contador para total dos ovos\n",
        "  locais = [] #registra onde estão esses ninhos\n",
        "\n",
        "  for ninho in ninhos: #percorre a lista de ninhos\n",
        "    if ninho[\"risco\"] == \"🟢\": #caso seja o risco desejado\n",
        "      ovos_totais += ninho[\"quantidade_ovos\"] #adiciona a quantidade de ovos do ninho ao contador de ovos\n",
        "      locais.append(ninho[\"regiao\"]) #adiciona local a lista\n",
        "\n",
        "  if len(locais) > 0: #caso algum ninho tenha sido encontrado\n",
        "    media = ovos_totais / len(locais) #cálculo da média\n",
        "    print(f\"\\n📊Número médio de ovos nos ninhos com risco estável: {media:.2f}\")\n",
        "    print(f\"\\n🗺️Eles se encontram em {locais}\")\n",
        "  else:\n",
        "    print(\"\\n⚠️Nenhum ninho com risco estável encontrado.\")"
      ],
      "metadata": {
        "id": "mdhVRigLXgnk"
      },
      "execution_count": null,
      "outputs": []
    },
    {
      "cell_type": "code",
      "source": [
        "#Função que exibe número de ovos com 5 dias ou menos para eclodir\n",
        "def ovos_eclodir():\n",
        "  ovos_eclodir = 0 #contador de ovos prestes a eclodir\n",
        "  locais = [] #registra onde estão esses ninhos\n",
        "\n",
        "  for ninho in ninhos: #percorre lista de ninhos\n",
        "    if ninho[\"dias_para_eclosao\"] <= 5: #caso esjeam prestes a eclodir\n",
        "      ovos_eclodir += ninho[\"quantidade_ovos\"] #adiciona quantidade de ovos prestes a eclodir ao contador de ovos\n",
        "      locais.append(ninho[\"regiao\"]) #adiciona local a lista\n",
        "\n",
        "  if len(locais) > 0: #caso algum ninho tenha sido encontrado\n",
        "    print(f\"\\n📊Número de ovos prestes a eclodir: {ovos_eclodir}\")\n",
        "    print(f\"\\n🗺️Eles se encontram em {locais}\")\n",
        "  else:\n",
        "    print(f\"\\nNenhum ovo prestes a eclodir.\")"
      ],
      "metadata": {
        "id": "U0ifpCcFXiNL"
      },
      "execution_count": null,
      "outputs": []
    },
    {
      "cell_type": "code",
      "source": [
        "#Função para encontrar qual região tem maior número de ninhos com risco 🔴\n",
        "def regiao_mais_ninhos_critico():\n",
        "  contagem_por_regiao = {} #dicionario que irá guardar a contagem de ovos por região\n",
        "\n",
        "  for ninho in ninhos: #percorre lista de ninhos\n",
        "    if ninho[\"risco\"] == \"🔴\": #caso seja o risco desejado\n",
        "      regiao = ninho[\"regiao\"] #guarda o nome da região\n",
        "      if regiao in contagem_por_regiao: #caso ela já esteja na contagem\n",
        "        contagem_por_regiao[regiao] += 1\n",
        "      else: #caso ela ainda não esteja na contagem\n",
        "        contagem_por_regiao[regiao] = 1\n",
        "\n",
        "  if contagem_por_regiao: #caso alguma região desejada tenha sido encontrada\n",
        "    regiao_max = max(contagem_por_regiao, key=contagem_por_regiao.get) #encontra a região desejada com maior número de ovos\n",
        "    quantidade = contagem_por_regiao[regiao_max] #pega a quantidade de ovos dessa região\n",
        "    print(f\"\\n🚨Região com mais ninhos sob risco crítico: {regiao_max} ({quantidade} ninhos)\")\n",
        "  else: #caso não tenha sido encontrado nenhuma região com as caracteristicas desejadas\n",
        "    print(\"\\n✅Nenhum ninho registrado com risco crítico.\")"
      ],
      "metadata": {
        "id": "GK18MGFqXkZa"
      },
      "execution_count": null,
      "outputs": []
    },
    {
      "cell_type": "code",
      "source": [
        "#Função para encontrar regiões com ninhos danificados e com predadores\n",
        "def ninhos_predadores_danificados():\n",
        "  contador = 0 #contador de ninhos\n",
        "  locais = [] #registra onde estão esses ninhos\n",
        "\n",
        "  for ninho in ninhos: #percorre a lista de ninhos\n",
        "    if ninho[\"predadores\"] == True and ninho[\"status\"] == \"danificado\": #caso haja predadores e o ninho esteja danificado\n",
        "      contador += 1 #incrementa contador\n",
        "      locais.append(ninho[\"regiao\"]) #registra onde está esse ninho\n",
        "\n",
        "  if contador > 0: #caso alguma região tenha sido encontrada\n",
        "    print(f\"\\n🐾 Ninhos com predadores presentes e danificados: {contador}\")\n",
        "    print(f\"\\n🗺️Eles se encontram em {locais}\")"
      ],
      "metadata": {
        "id": "d6T1Im-_Xl6t"
      },
      "execution_count": null,
      "outputs": []
    },
    {
      "cell_type": "code",
      "source": [
        "# Lista de dicionários representando os ninhos, os 5 primeiros registros foram dados pela atividade, os 5 restantes foram completados pelo ChatGPT\n",
        "ninhos = [\n",
        "    {\"regiao\": \"Praia Norte\", \"quantidade_ovos\": 102, \"status\": \"intacto\", \"risco\": \"🟢\", \"dias_para_eclosao\": 12, \"predadores\": False},\n",
        "    {\"regiao\": \"Praia Central\", \"quantidade_ovos\": 89, \"status\": \"danificado\", \"risco\": \"🔴\", \"dias_para_eclosao\": 3, \"predadores\": True},\n",
        "    {\"regiao\": \"Praia Sul\", \"quantidade_ovos\": 120, \"status\": \"ameaçado\", \"risco\": \"🟡\", \"dias_para_eclosao\": 7, \"predadores\": False},\n",
        "    {\"regiao\": \"Praia Central\", \"quantidade_ovos\": 75, \"status\": \"intacto\", \"risco\": \"🟢\", \"dias_para_eclosao\": 2, \"predadores\": False},\n",
        "    {\"regiao\": \"Praia Norte\", \"quantidade_ovos\": 60, \"status\": \"danificado\", \"risco\": \"🔴\", \"dias_para_eclosao\": 5, \"predadores\": True},\n",
        "    {\"regiao\": \"Praia Sul\", \"quantidade_ovos\": 97, \"status\": \"ameaçado\", \"risco\": \"🟡\", \"dias_para_eclosao\": 9, \"predadores\": True},\n",
        "    {\"regiao\": \"Praia Central\", \"quantidade_ovos\": 110, \"status\": \"intacto\", \"risco\": \"🟢\", \"dias_para_eclosao\": 6, \"predadores\": False},\n",
        "    {\"regiao\": \"Praia Norte\", \"quantidade_ovos\": 84, \"status\": \"danificado\", \"risco\": \"🟡\", \"dias_para_eclosao\": 4, \"predadores\": True},\n",
        "    {\"regiao\": \"Praia Sul\", \"quantidade_ovos\": 99, \"status\": \"intacto\", \"risco\": \"🟢\", \"dias_para_eclosao\": 11, \"predadores\": False},\n",
        "    {\"regiao\": \"Praia Central\", \"quantidade_ovos\": 66, \"status\": \"ameaçado\", \"risco\": \"🔴\", \"dias_para_eclosao\": 1, \"predadores\": True},\n",
        "]"
      ],
      "metadata": {
        "id": "3Q74ySGqXnoY"
      },
      "execution_count": null,
      "outputs": []
    },
    {
      "cell_type": "code",
      "source": [
        "# Parte principal do programa, que interage com o usuário\n",
        "while True: #loop que pega a interação com o usuário\n",
        "  print(\"*\"*50)\n",
        "  print(\"MENU\".center(50))\n",
        "  print(\"1 - Inserir novo ninho\")\n",
        "  print(\"2 - Visualizar relatório semanal\")\n",
        "  print(\"3 - Visualizar quantidade total de ninhos\")\n",
        "  print(\"4 - Média de ovos em ninhos com risco 🟢\")\n",
        "  print(\"5 - Visualizar quantos ninhos estão prestes a eclodir\")\n",
        "  print(\"6 - Região com maior quantidade de ninhos com risco 🔴\")\n",
        "  print(\"7 - Quantide de ninhos danificados com presença de predadores\")\n",
        "  print(\"Digite 'sair' para encerrar o sistema\")\n",
        "  print(\"*\"*50)\n",
        "  entrada = input(\"Digite o número da opção desejada: \")\n",
        "\n",
        "  match entrada:\n",
        "    case \"1\": #inserir novo ninho\n",
        "      print(\"\\n---INSERIR NOVO NINHO---\\n\")\n",
        "      regiao = input(\"Digite o nome da região: \")\n",
        "      qte_ovos = input(\"Digite a quantidade de ovos no ninho: \")\n",
        "      status = input(\"Digite o status da região (intacto, danificado ou ameaçado): \")\n",
        "      risco = input(\"Digite o risco da região(🟢, 🟡 ou 🔴): \")\n",
        "      dias_eclosao = input(\"Digite a quantidade de dias para a eclosão dos ovos: \")\n",
        "      predadores = input(\"Há presença de predadores? (True ou False): \")\n",
        "      inserir_ninho(regiao, qte_ovos, status, risco, dias_eclosao, predadores)\n",
        "    case \"2\": #exibir relátorio semanal\n",
        "      exibir_relatorio_semanal()\n",
        "    case \"3\": #exibir quantidade total de ninhos\n",
        "      exibir_qte_total_ninhos()\n",
        "    case \"4\": #exibir média de ovos com risco estável\n",
        "      media_ovos_risco_estavel()\n",
        "    case \"5\": #exibir número de ovos prestes a eclodir\n",
        "      ovos_eclodir()\n",
        "    case \"6\": #exibir onde há a mair quantidade de ninhos críticos\n",
        "      regiao_mais_ninhos_critico()\n",
        "    case \"7\": #exibir onde estão a maior quantidade de ninhos danificados com predadores\n",
        "      ninhos_predadores_danificados()\n",
        "    case \"sair\": #fechar o sistema\n",
        "      print(\"Encerrando sistema\")\n",
        "      break\n",
        "    case _:\n",
        "      print(\"Entrada inválida, digite apenas o número da opção\")"
      ],
      "metadata": {
        "id": "VSsoDo6WXpe2"
      },
      "execution_count": null,
      "outputs": []
    }
  ]
}